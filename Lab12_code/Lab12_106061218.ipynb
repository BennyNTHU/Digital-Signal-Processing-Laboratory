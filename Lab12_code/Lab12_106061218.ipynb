{
 "cells": [
  {
   "cell_type": "markdown",
   "metadata": {},
   "source": [
    "# Lab12"
   ]
  },
  {
   "cell_type": "markdown",
   "metadata": {},
   "source": [
    "## 一. 引入需要的資料集"
   ]
  },
  {
   "cell_type": "code",
   "execution_count": 1,
   "metadata": {},
   "outputs": [],
   "source": [
    "from glob import glob\n",
    "import os\n",
    "import librosa\n",
    "import numpy as np\n",
    "import pandas as pd\n",
    "import matplotlib.pyplot as plt\n",
    "import itertools\n",
    "import warnings\n",
    "from sklearn.decomposition import PCA\n",
    "from sklearn.metrics import confusion_matrix, accuracy_score, f1_score, make_scorer\n",
    "from sklearn.model_selection import KFold\n",
    "from sklearn.svm import SVC, LinearSVC\n",
    "from sklearn.preprocessing import StandardScaler\n",
    "from sklearn.model_selection import GridSearchCV\n",
    "from sklearn.pipeline import make_pipeline\n",
    "from scipy.fftpack import dct"
   ]
  },
  {
   "cell_type": "code",
   "execution_count": 2,
   "metadata": {},
   "outputs": [],
   "source": [
    "def plot_confusion_matrix(cm, classes,\n",
    "                          normalize=False,\n",
    "                          title='Confusion matrix',\n",
    "                          cmap=plt.cm.Blues,\n",
    "                          filename ='1.png'):\n",
    "    \"\"\"\n",
    "    This function prints and plots the confusion matrix.\n",
    "    Normalization can be applied by setting `normalize=True`.\n",
    "    \"\"\"\n",
    "    if normalize:\n",
    "        cm = cm.astype('float') / cm.sum(axis=1)[:, np.newaxis]\n",
    "        print(\"Normalized confusion matrix\")\n",
    "    else:\n",
    "        print('Confusion matrix')\n",
    "\n",
    "    plt.imshow(cm, interpolation='nearest', cmap=cmap)\n",
    "    plt.title(title)\n",
    "    plt.colorbar()\n",
    "    tick_marks = np.arange(len(classes))\n",
    "    plt.xticks(tick_marks, classes, rotation=90)\n",
    "    plt.yticks(tick_marks, classes)\n",
    "\n",
    "    fmt = '.2f' if normalize else 'd'\n",
    "    thresh = cm.max() / 2.\n",
    "    for i, j in itertools.product(range(cm.shape[0]), range(cm.shape[1])):\n",
    "        plt.text(j, i, format(cm[i, j], fmt),\n",
    "                 horizontalalignment=\"center\",\n",
    "                 color=\"white\" if cm[i, j] > thresh else \"black\")\n",
    "\n",
    "    plt.tight_layout()\n",
    "    plt.ylabel('True label')\n",
    "    plt.xlabel('Predicted label')\n",
    "    plt.savefig(filename, dpi=500)\n",
    "    plt.show()"
   ]
  },
  {
   "cell_type": "markdown",
   "metadata": {},
   "source": [
    "## 二. 讀取資料並抽取特徵"
   ]
  },
  {
   "cell_type": "code",
   "execution_count": 11,
   "metadata": {},
   "outputs": [],
   "source": [
    "def feat_avg(path):\n",
    "    audio, _ = librosa.load(path, sr=22050)\n",
    "    mfcc = librosa.feature.mfcc(audio)\n",
    "    feat = np.average(mfcc, axis=1)\n",
    "    return feat\n",
    "\n",
    "def feat_DCT(path):\n",
    "    audio, _ = librosa.load(path, sr=22050)\n",
    "    DCT = dct(audio)[:20]\n",
    "    return DCT"
   ]
  },
  {
   "cell_type": "code",
   "execution_count": 4,
   "metadata": {},
   "outputs": [],
   "source": [
    "#%% Loading training and test data\n",
    "DataPath = './Datasets'\n",
    "FeaPath  = './Features/MFCC'\n",
    "train_path = sorted(glob(os.path.join(DataPath, 'wav_train', 'train*.wav')))\n",
    "test_path = sorted(glob(os.path.join(DataPath, 'wav_dev', 'dev*.wav')))"
   ]
  },
  {
   "cell_type": "code",
   "execution_count": 5,
   "metadata": {},
   "outputs": [],
   "source": [
    "warnings.filterwarnings('ignore')\n",
    "train_data = [feat_avg(path) for path in train_path]\n",
    "test_data = [feat_avg(path) for path in test_path]"
   ]
  },
  {
   "cell_type": "code",
   "execution_count": 6,
   "metadata": {},
   "outputs": [],
   "source": [
    "#%% Reading labels\n",
    "labels = pd.read_csv(os.path.join(DataPath, 'labels_raw.csv'))\n",
    "name2label = dict((row['file_name'], row['label']) for idx, row in labels.iterrows())\n",
    "train_label = [name2label[os.path.basename(path)] for path in train_path]\n",
    "test_label = [name2label[os.path.basename(path)] for path in test_path]"
   ]
  },
  {
   "cell_type": "code",
   "execution_count": 7,
   "metadata": {},
   "outputs": [],
   "source": [
    "X_train = np.vstack(train_data)\n",
    "y_train = np.array(train_label)\n",
    "X_test = np.vstack(test_data)\n",
    "y_test = np.array(test_label)\n",
    "sc = StandardScaler() # 標準化\n",
    "sc.fit(X_train)\n",
    "X_train_std = sc.transform(X_train)\n",
    "X_test_std = sc.transform(X_test)"
   ]
  },
  {
   "cell_type": "code",
   "execution_count": 12,
   "metadata": {},
   "outputs": [],
   "source": [
    "warnings.filterwarnings('ignore')\n",
    "train_data = [feat_DCT(path) for path in train_path]\n",
    "name2label = dict((row['file_name'], row['label']) for idx, row in labels.iterrows())\n",
    "train_label = [name2label[os.path.basename(path)] for path in train_path]\n",
    "X_train2 = np.vstack(train_data)\n",
    "X_train_std2 = sc.transform(X_train2)"
   ]
  },
  {
   "cell_type": "markdown",
   "metadata": {},
   "source": [
    "## 三. 執行PCA降維"
   ]
  },
  {
   "cell_type": "code",
   "execution_count": 13,
   "metadata": {},
   "outputs": [
    {
     "data": {
      "image/png": "[encoded data removed]",
      "text/plain": [
       "<Figure size 432x288 with 1 Axes>"
      ]
     },
     "metadata": {
      "needs_background": "light"
     },
     "output_type": "display_data"
    }
   ],
   "source": [
    "#用PCA進行降維\n",
    "pca = PCA()\n",
    "X_train_pca = pca.fit_transform(X_train_std)\n",
    "\n",
    "#用 principal components 和 explained variance ratio 作圖，以此決定 n_components 的值\n",
    "plt.bar(range(0, len(X_train_pca[1])), pca.explained_variance_ratio_, alpha = 0.5, align = 'center')\n",
    "plt.step(range(0,len(X_train_pca[1])), np.cumsum(pca.explained_variance_ratio_), where = 'mid')\n",
    "plt.ylabel('Explained variance ratio')\n",
    "plt.xlabel('Principal components')\n",
    "plt.xlim(0, 20)       #看完原本的圖後，將範圍鎖定在0~400，比較能看出components要取哪個值\n",
    "plt.savefig('PCA_MFCC', dpi=500)\n",
    "plt.show()"
   ]
  },
  {
   "cell_type": "code",
   "execution_count": 15,
   "metadata": {},
   "outputs": [
    {
     "data": {
      "image/png": "[encoded data removed]",
      "text/plain": [
       "<Figure size 432x288 with 1 Axes>"
      ]
     },
     "metadata": {
      "needs_background": "light"
     },
     "output_type": "display_data"
    }
   ],
   "source": [
    "#用PCA進行降維\n",
    "pca = PCA()\n",
    "X_train_pca = pca.fit_transform(X_train_std2)\n",
    "\n",
    "#用 principal components 和 explained variance ratio 作圖，以此決定 n_components 的值\n",
    "plt.bar(range(0, len(X_train_pca[1])), pca.explained_variance_ratio_, alpha = 0.5, align = 'center')\n",
    "plt.step(range(0,len(X_train_pca[1])), np.cumsum(pca.explained_variance_ratio_), where = 'mid')\n",
    "plt.ylabel('Explained variance ratio')\n",
    "plt.xlabel('Principal components')\n",
    "plt.xlim(0, 20)       #看完原本的圖後，將範圍鎖定在0~400，比較能看出components要取哪個值\n",
    "plt.savefig('PCA_DCT', dpi=500)\n",
    "plt.show()"
   ]
  },
  {
   "cell_type": "code",
   "execution_count": 16,
   "metadata": {},
   "outputs": [],
   "source": [
    "reduction_dimension = 13\n",
    "reduction_dimension_DCT = 10"
   ]
  },
  {
   "cell_type": "code",
   "execution_count": 17,
   "metadata": {},
   "outputs": [],
   "source": [
    "def feat_extraction_avg_13(path):\n",
    "    audio, _ = librosa.load(path, sr=22050)\n",
    "    mfcc = librosa.feature.mfcc(audio)[:reduction_dimension]\n",
    "    feat = np.average(mfcc, axis=1)\n",
    "    return feat\n",
    "\n",
    "def feat_extraction_avg_std(path):\n",
    "    audio, _ = librosa.load(path)\n",
    "    mfcc = librosa.feature.mfcc(audio)[:reduction_dimension]\n",
    "    feat1 = np.average(mfcc, axis=1)\n",
    "    feat2 = np.std(mfcc, axis=1)\n",
    "    feat = np.concatenate((feat1, feat2))\n",
    "    return feat\n",
    "\n",
    "def feat_PSC(path):\n",
    "    audio, _ = librosa.load(path, sr=22050)\n",
    "    psk = dct(np.abs(np.fft.rfft(audio)), norm = 'ortho')[:reduction_dimension_DCT]\n",
    "    return psk\n",
    "\n",
    "def feat_PCC(path):\n",
    "    audio, _ = librosa.load(path, sr=22050)\n",
    "    pcc = dct(np.log10(np.abs(np.fft.rfft(audio))))[:reduction_dimension_DCT]\n",
    "    return pcc\n",
    "\n",
    "def feat_DCT(path):\n",
    "    audio, _ = librosa.load(path, sr=22050)\n",
    "    DCT = dct(audio)[:reduction_dimension_DCT]\n",
    "    return DCT"
   ]
  },
  {
   "cell_type": "markdown",
   "metadata": {},
   "source": [
    "## 四. k-fold learning與Grid-search"
   ]
  },
  {
   "cell_type": "markdown",
   "metadata": {},
   "source": [
    "### 1. 平均值"
   ]
  },
  {
   "cell_type": "code",
   "execution_count": 18,
   "metadata": {},
   "outputs": [],
   "source": [
    "warnings.filterwarnings('ignore')\n",
    "train_data = [feat_extraction_avg_13(path) for path in train_path] # 改這裡\n",
    "test_data = [feat_extraction_avg_13(path) for path in test_path] # # 改這裡\n",
    "labels = pd.read_csv(os.path.join(DataPath, 'labels_raw.csv'))\n",
    "name2label = dict((row['file_name'], row['label']) for idx, row in labels.iterrows())\n",
    "train_label = [name2label[os.path.basename(path)] for path in train_path]\n",
    "test_label = [name2label[os.path.basename(path)] for path in test_path]\n",
    "X_train = np.vstack(train_data)\n",
    "y_train = np.array(train_label)\n",
    "X_test = np.vstack(test_data)\n",
    "y_test = np.array(test_label)\n",
    "sc = StandardScaler() # 標準化\n",
    "sc.fit(X_train)\n",
    "X_train_std = sc.transform(X_train)\n",
    "X_test_std = sc.transform(X_test)"
   ]
  },
  {
   "cell_type": "code",
   "execution_count": 19,
   "metadata": {},
   "outputs": [
    {
     "name": "stdout",
     "output_type": "stream",
     "text": [
      "0.6408904881101376\n",
      "{'svc__C': 1.0, 'svc__gamma': 0.1, 'svc__kernel': 'rbf'}\n"
     ]
    }
   ],
   "source": [
    "pipe_svc = make_pipeline(StandardScaler(), SVC(random_state=1))\n",
    "\n",
    "# 超參數挑選範圍\n",
    "param_range = [0.001, 0.01, 0.1, 1.0, 10.0, 100.0] \n",
    "param_grid = [{'svc__C': param_range, \n",
    "               'svc__kernel': ['linear']},\n",
    "              {'svc__C': param_range, \n",
    "               'svc__gamma': param_range, \n",
    "               'svc__kernel': ['rbf']}]\n",
    "\n",
    "# 使用網格搜尋法\n",
    "gs = GridSearchCV(estimator=pipe_svc, \n",
    "                  param_grid=param_grid, \n",
    "                  scoring='f1_micro',\n",
    "                  cv=5,\n",
    "                  n_jobs=-1)\n",
    "gs = gs.fit(X_train_std, y_train)\n",
    "\n",
    "# 輸出結果\n",
    "print(gs.best_score_) # 最佳的正確率\n",
    "print(gs.best_params_) # 最佳參數組合"
   ]
  },
  {
   "cell_type": "code",
   "execution_count": 20,
   "metadata": {},
   "outputs": [],
   "source": [
    "clf = gs.best_estimator_ # 取得剛剛算出的最佳參數\n",
    "clf.fit(X_train_std, y_train) # 用這個參數train出model\n",
    "y_predict_avg = clf.predict(X_test_std)\n",
    "results_avg = pd.DataFrame({'file_name':[os.path.basename(f) for f in test_path], 'prediction':y_predict_avg})\n",
    "results_avg.to_csv('results_avg13.csv', index=False)"
   ]
  },
  {
   "cell_type": "code",
   "execution_count": 21,
   "metadata": {},
   "outputs": [
    {
     "name": "stdout",
     "output_type": "stream",
     "text": [
      "Test accuracy: 0.710\n",
      "F1_score: 0.710\n"
     ]
    }
   ],
   "source": [
    "y3 = clf.predict(X_train_std)\n",
    "print('Test accuracy: %.3f' % clf.score(X_train_std, y_train)) # 對測試集進行預測\n",
    "print('F1_score: %.3f' % f1_score(y_true=y_train, y_pred=y3, average='micro'))"
   ]
  },
  {
   "cell_type": "code",
   "execution_count": 22,
   "metadata": {},
   "outputs": [
    {
     "name": "stdout",
     "output_type": "stream",
     "text": [
      "Confusion matrix\n"
     ]
    },
    {
     "data": {
      "image/png": "[encoded data removed]",
      "text/plain": [
       "<Figure size 432x288 with 2 Axes>"
      ]
     },
     "metadata": {
      "needs_background": "light"
     },
     "output_type": "display_data"
    }
   ],
   "source": [
    "classNames = ['Canonical', 'Non-canonical', 'Junk', 'Crying', 'Laughing']\n",
    "cm = confusion_matrix(y_true=y_train, y_pred=y3)\n",
    "plot_confusion_matrix(cm, classNames, filename = 'avg_13.png')"
   ]
  },
  {
   "cell_type": "markdown",
   "metadata": {},
   "source": [
    "### 2. 平均值+標準差"
   ]
  },
  {
   "cell_type": "code",
   "execution_count": 38,
   "metadata": {},
   "outputs": [],
   "source": [
    "warnings.filterwarnings('ignore')\n",
    "train_data = [feat_extraction_avg_std(path) for path in train_path] # 改這裡\n",
    "test_data = [feat_extraction_avg_std(path) for path in test_path] # # 改這裡\n",
    "labels = pd.read_csv(os.path.join(DataPath, 'labels_raw.csv'))\n",
    "name2label = dict((row['file_name'], row['label']) for idx, row in labels.iterrows())\n",
    "train_label = [name2label[os.path.basename(path)] for path in train_path]\n",
    "test_label = [name2label[os.path.basename(path)] for path in test_path]\n",
    "X_train = np.vstack(train_data)\n",
    "y_train = np.array(train_label)\n",
    "X_test = np.vstack(test_data)\n",
    "y_test = np.array(test_label)\n",
    "sc = StandardScaler() # 標準化\n",
    "sc.fit(X_train)\n",
    "X_train_std = sc.transform(X_train)\n",
    "X_test_std = sc.transform(X_test)"
   ]
  },
  {
   "cell_type": "code",
   "execution_count": 39,
   "metadata": {},
   "outputs": [
    {
     "name": "stdout",
     "output_type": "stream",
     "text": [
      "0.6591602002503129\n",
      "{'svc__C': 10.0, 'svc__gamma': 0.01, 'svc__kernel': 'rbf'}\n",
      "Test accuracy: 0.754\n",
      "F1_score: 0.754\n"
     ]
    }
   ],
   "source": [
    "pipe_svc = make_pipeline(StandardScaler(), SVC(random_state=1))\n",
    "\n",
    "# 超參數挑選範圍\n",
    "param_range = [0.001, 0.01, 0.1, 1.0, 10.0, 100.0] \n",
    "param_grid = [{'svc__C': param_range, \n",
    "               'svc__kernel': ['linear']},\n",
    "              {'svc__C': param_range, \n",
    "               'svc__gamma': param_range, \n",
    "               'svc__kernel': ['rbf']}]\n",
    "\n",
    "# 使用網格搜尋法\n",
    "gs = GridSearchCV(estimator=pipe_svc, \n",
    "                  param_grid=param_grid, \n",
    "                  scoring='f1_micro', \n",
    "                  cv=5,\n",
    "                  n_jobs=-1)\n",
    "gs = gs.fit(X_train_std, y_train)\n",
    "\n",
    "# 輸出結果\n",
    "print(gs.best_score_) # 最佳的正確率\n",
    "print(gs.best_params_) # 最佳參數組合\n",
    "\n",
    "clf = gs.best_estimator_ # 取得剛剛算出的最佳參數\n",
    "clf.fit(X_train_std, y_train) # 用這個參數train出model\n",
    "y_predict_avg_std = clf.predict(X_test_std)\n",
    "results_avg_std = pd.DataFrame({'file_name':[os.path.basename(f) for f in test_path], 'prediction':y_predict_avg_std})\n",
    "results_avg_std.to_csv('results_avg_std_f1.csv', index=False)\n",
    "\n",
    "y4 = clf.predict(X_train_std)\n",
    "print('Test accuracy: %.3f' % clf.score(X_train_std, y_train)) # 對測試集進行預測\n",
    "print('F1_score: %.3f' % f1_score(y_true=y_train, y_pred=y4, average='micro'))"
   ]
  },
  {
   "cell_type": "code",
   "execution_count": 40,
   "metadata": {},
   "outputs": [
    {
     "name": "stdout",
     "output_type": "stream",
     "text": [
      "Confusion matrix\n"
     ]
    },
    {
     "data": {
      "image/png": "[encoded data removed]",
      "text/plain": [
       "<Figure size 432x288 with 2 Axes>"
      ]
     },
     "metadata": {
      "needs_background": "light"
     },
     "output_type": "display_data"
    }
   ],
   "source": [
    "cm = confusion_matrix(y_true=y_train, y_pred=y4)\n",
    "plot_confusion_matrix(cm, classNames, filename = 'avg_std_f1.png')"
   ]
  },
  {
   "cell_type": "markdown",
   "metadata": {},
   "source": [
    "### 3. PSC"
   ]
  },
  {
   "cell_type": "code",
   "execution_count": 26,
   "metadata": {},
   "outputs": [],
   "source": [
    "warnings.filterwarnings('ignore')\n",
    "train_data = [feat_PSC(path) for path in train_path] # 改這裡\n",
    "test_data = [feat_PSC(path) for path in test_path] # # 改這裡\n",
    "labels = pd.read_csv(os.path.join(DataPath, 'labels_raw.csv'))\n",
    "name2label = dict((row['file_name'], row['label']) for idx, row in labels.iterrows())\n",
    "train_label = [name2label[os.path.basename(path)] for path in train_path]\n",
    "test_label = [name2label[os.path.basename(path)] for path in test_path]\n",
    "X_train = np.vstack(train_data)\n",
    "y_train = np.array(train_label)\n",
    "X_test = np.vstack(test_data)\n",
    "y_test = np.array(test_label)\n",
    "sc = StandardScaler() # 標準化\n",
    "sc.fit(X_train)\n",
    "X_train_std = sc.transform(X_train)\n",
    "X_test_std = sc.transform(X_test)"
   ]
  },
  {
   "cell_type": "code",
   "execution_count": 27,
   "metadata": {},
   "outputs": [
    {
     "name": "stdout",
     "output_type": "stream",
     "text": [
      "0.5745785356695869\n",
      "{'svc__C': 100.0, 'svc__gamma': 0.01, 'svc__kernel': 'rbf'}\n",
      "Test accuracy: 0.593\n",
      "F1_score: 0.593\n"
     ]
    }
   ],
   "source": [
    "pipe_svc = make_pipeline(StandardScaler(), SVC(random_state=1))\n",
    "\n",
    "# 超參數挑選範圍\n",
    "param_range = [0.001, 0.01, 0.1, 1.0, 10.0, 100.0] \n",
    "param_grid = [{'svc__C': param_range, \n",
    "               'svc__kernel': ['linear']},\n",
    "              {'svc__C': param_range, \n",
    "               'svc__gamma': param_range, \n",
    "               'svc__kernel': ['rbf']}]\n",
    "\n",
    "# 使用網格搜尋法\n",
    "gs = GridSearchCV(estimator=pipe_svc, \n",
    "                  param_grid=param_grid, \n",
    "                  scoring='f1_micro', \n",
    "                  cv=5,\n",
    "                  n_jobs=-1)\n",
    "gs = gs.fit(X_train_std, y_train)\n",
    "\n",
    "# 輸出結果\n",
    "print(gs.best_score_) # 最佳的正確率\n",
    "print(gs.best_params_) # 最佳參數組合\n",
    "\n",
    "clf = gs.best_estimator_ # 取得剛剛算出的最佳參數\n",
    "clf.fit(X_train_std, y_train) # 用這個參數train出model\n",
    "y_predict_PSC = clf.predict(X_test_std)\n",
    "results_PSC = pd.DataFrame({'file_name':[os.path.basename(f) for f in test_path], 'prediction':y_predict_PSC})\n",
    "results_PSC.to_csv('results_PSC.csv', index=False)\n",
    "\n",
    "y5 = clf.predict(X_train_std)\n",
    "print('Test accuracy: %.3f' % clf.score(X_train_std, y_train)) # 對測試集進行預測\n",
    "print('F1_score: %.3f' % f1_score(y_true=y_train, y_pred=y5, average='micro'))"
   ]
  },
  {
   "cell_type": "code",
   "execution_count": 28,
   "metadata": {},
   "outputs": [
    {
     "name": "stdout",
     "output_type": "stream",
     "text": [
      "Confusion matrix\n"
     ]
    },
    {
     "data": {
      "image/png": "[encoded data removed]",
      "text/plain": [
       "<Figure size 432x288 with 2 Axes>"
      ]
     },
     "metadata": {
      "needs_background": "light"
     },
     "output_type": "display_data"
    }
   ],
   "source": [
    "cm = confusion_matrix(y_true=y_train, y_pred=y5)\n",
    "plot_confusion_matrix(cm, classNames, filename = 'PSC.png')"
   ]
  },
  {
   "cell_type": "markdown",
   "metadata": {},
   "source": [
    "### 4. PCC"
   ]
  },
  {
   "cell_type": "code",
   "execution_count": 29,
   "metadata": {},
   "outputs": [],
   "source": [
    "warnings.filterwarnings('ignore')\n",
    "train_data = [feat_PCC(path) for path in train_path] # 改這裡\n",
    "test_data = [feat_PCC(path) for path in test_path] # # 改這裡\n",
    "labels = pd.read_csv(os.path.join(DataPath, 'labels_raw.csv'))\n",
    "name2label = dict((row['file_name'], row['label']) for idx, row in labels.iterrows())\n",
    "train_label = [name2label[os.path.basename(path)] for path in train_path]\n",
    "test_label = [name2label[os.path.basename(path)] for path in test_path]\n",
    "X_train = np.vstack(train_data)\n",
    "y_train = np.array(train_label)\n",
    "X_test = np.vstack(test_data)\n",
    "y_test = np.array(test_label)\n",
    "sc = StandardScaler() # 標準化\n",
    "sc.fit(X_train)\n",
    "X_train_std = sc.transform(X_train)\n",
    "X_test_std = sc.transform(X_test)"
   ]
  },
  {
   "cell_type": "code",
   "execution_count": 30,
   "metadata": {},
   "outputs": [
    {
     "name": "stdout",
     "output_type": "stream",
     "text": [
      "0.5658207133917397\n",
      "{'svc__C': 10.0, 'svc__gamma': 0.1, 'svc__kernel': 'rbf'}\n",
      "Test accuracy: 0.677\n",
      "F1_score: 0.677\n"
     ]
    }
   ],
   "source": [
    "pipe_svc = make_pipeline(StandardScaler(), SVC(random_state=1))\n",
    "\n",
    "# 超參數挑選範圍\n",
    "param_range = [0.001, 0.01, 0.1, 1.0, 10.0, 100.0] \n",
    "param_grid = [{'svc__C': param_range, \n",
    "               'svc__kernel': ['linear']},\n",
    "              {'svc__C': param_range, \n",
    "               'svc__gamma': param_range, \n",
    "               'svc__kernel': ['rbf']}]\n",
    "\n",
    "# 使用網格搜尋法\n",
    "gs = GridSearchCV(estimator=pipe_svc, \n",
    "                  param_grid=param_grid, \n",
    "                  scoring='f1_micro', \n",
    "                  cv=5,\n",
    "                  n_jobs=-1)\n",
    "gs = gs.fit(X_train_std, y_train)\n",
    "\n",
    "# 輸出結果\n",
    "print(gs.best_score_) # 最佳的正確率\n",
    "print(gs.best_params_) # 最佳參數組合\n",
    "\n",
    "clf = gs.best_estimator_ # 取得剛剛算出的最佳參數\n",
    "clf.fit(X_train_std, y_train) # 用這個參數train出model\n",
    "y_predict_PCC = clf.predict(X_test_std)\n",
    "results_PCC = pd.DataFrame({'file_name':[os.path.basename(f) for f in test_path], 'prediction':y_predict_PCC})\n",
    "results_PCC.to_csv('results_PCC.csv', index=False)\n",
    "\n",
    "y6 = clf.predict(X_train_std)\n",
    "print('Test accuracy: %.3f' % clf.score(X_train_std, y_train)) # 對測試集進行預測\n",
    "print('F1_score: %.3f' % f1_score(y_true=y_train, y_pred=y6, average='micro'))"
   ]
  },
  {
   "cell_type": "code",
   "execution_count": 31,
   "metadata": {},
   "outputs": [
    {
     "name": "stdout",
     "output_type": "stream",
     "text": [
      "Confusion matrix\n"
     ]
    },
    {
     "data": {
      "image/png": "[encoded data removed]",
      "text/plain": [
       "<Figure size 432x288 with 2 Axes>"
      ]
     },
     "metadata": {
      "needs_background": "light"
     },
     "output_type": "display_data"
    }
   ],
   "source": [
    "cm = confusion_matrix(y_true=y_train, y_pred=y6)\n",
    "plot_confusion_matrix(cm, classNames, filename = 'PCC.png')"
   ]
  },
  {
   "cell_type": "markdown",
   "metadata": {},
   "source": [
    "### 5. DCT"
   ]
  },
  {
   "cell_type": "code",
   "execution_count": 32,
   "metadata": {},
   "outputs": [],
   "source": [
    "warnings.filterwarnings('ignore')\n",
    "train_data = [feat_DCT(path) for path in train_path] # 改這裡\n",
    "test_data = [feat_DCT(path) for path in test_path] # # 改這裡\n",
    "labels = pd.read_csv(os.path.join(DataPath, 'labels_raw.csv'))\n",
    "name2label = dict((row['file_name'], row['label']) for idx, row in labels.iterrows())\n",
    "train_label = [name2label[os.path.basename(path)] for path in train_path]\n",
    "test_label = [name2label[os.path.basename(path)] for path in test_path]\n",
    "X_train = np.vstack(train_data)\n",
    "y_train = np.array(train_label)\n",
    "X_test = np.vstack(test_data)\n",
    "y_test = np.array(test_label)\n",
    "sc = StandardScaler() # 標準化\n",
    "sc.fit(X_train)\n",
    "X_train_std = sc.transform(X_train)\n",
    "X_test_std = sc.transform(X_test)"
   ]
  },
  {
   "cell_type": "code",
   "execution_count": 33,
   "metadata": {},
   "outputs": [
    {
     "name": "stdout",
     "output_type": "stream",
     "text": [
      "0.48298185231539426\n",
      "{'svc__C': 10.0, 'svc__gamma': 1.0, 'svc__kernel': 'rbf'}\n",
      "Test accuracy: 0.564\n",
      "F1_score: 0.677\n"
     ]
    }
   ],
   "source": [
    "pipe_svc = make_pipeline(StandardScaler(), SVC(random_state=1))\n",
    "\n",
    "# 超參數挑選範圍\n",
    "param_range = [0.001, 0.01, 0.1, 1.0, 10.0, 100.0] \n",
    "param_grid = [{'svc__C': param_range, \n",
    "               'svc__kernel': ['linear']},\n",
    "              {'svc__C': param_range, \n",
    "               'svc__gamma': param_range, \n",
    "               'svc__kernel': ['rbf']}]\n",
    "\n",
    "# 使用網格搜尋法\n",
    "gs = GridSearchCV(estimator=pipe_svc, \n",
    "                  param_grid=param_grid, \n",
    "                  scoring='f1_micro', \n",
    "                  cv=5,\n",
    "                  n_jobs=-1)\n",
    "gs = gs.fit(X_train_std, y_train)\n",
    "\n",
    "# 輸出結果\n",
    "print(gs.best_score_) # 最佳的正確率\n",
    "print(gs.best_params_) # 最佳參數組合\n",
    "\n",
    "clf = gs.best_estimator_ # 取得剛剛算出的最佳參數\n",
    "clf.fit(X_train_std, y_train) # 用這個參數train出model\n",
    "y_predict_DCT = clf.predict(X_test_std)\n",
    "results_DCT = pd.DataFrame({'file_name':[os.path.basename(f) for f in test_path], 'prediction':y_predict_DCT})\n",
    "results_DCT.to_csv('results_DCT.csv', index=False)\n",
    "\n",
    "y7 = clf.predict(X_train_std)\n",
    "print('Test accuracy: %.3f' % clf.score(X_train_std, y_train)) # 對測試集進行預測\n",
    "print('F1_score: %.3f' % f1_score(y_true=y_train, y_pred=y6, average='micro'))"
   ]
  },
  {
   "cell_type": "code",
   "execution_count": 34,
   "metadata": {},
   "outputs": [
    {
     "name": "stdout",
     "output_type": "stream",
     "text": [
      "Confusion matrix\n"
     ]
    },
    {
     "data": {
      "image/png": "[encoded data removed]",
      "text/plain": [
       "<Figure size 432x288 with 2 Axes>"
      ]
     },
     "metadata": {
      "needs_background": "light"
     },
     "output_type": "display_data"
    }
   ],
   "source": [
    "cm = confusion_matrix(y_true=y_train, y_pred=y7)\n",
    "plot_confusion_matrix(cm, classNames, filename = 'PCC.png')"
   ]
  },
  {
   "cell_type": "markdown",
   "metadata": {},
   "source": [
    "### 6. AVG+STD 換scoring"
   ]
  },
  {
   "cell_type": "code",
   "execution_count": 35,
   "metadata": {},
   "outputs": [],
   "source": [
    "warnings.filterwarnings('ignore')\n",
    "train_data = [feat_extraction_avg_std(path) for path in train_path] # 改這裡\n",
    "test_data = [feat_extraction_avg_std(path) for path in test_path] # # 改這裡\n",
    "labels = pd.read_csv(os.path.join(DataPath, 'labels_raw.csv'))\n",
    "name2label = dict((row['file_name'], row['label']) for idx, row in labels.iterrows())\n",
    "train_label = [name2label[os.path.basename(path)] for path in train_path]\n",
    "test_label = [name2label[os.path.basename(path)] for path in test_path]\n",
    "X_train = np.vstack(train_data)\n",
    "y_train = np.array(train_label)\n",
    "X_test = np.vstack(test_data)\n",
    "y_test = np.array(test_label)\n",
    "sc = StandardScaler() # 標準化\n",
    "sc.fit(X_train)\n",
    "X_train_std = sc.transform(X_train)\n",
    "X_test_std = sc.transform(X_test)"
   ]
  },
  {
   "cell_type": "code",
   "execution_count": 36,
   "metadata": {},
   "outputs": [
    {
     "name": "stdout",
     "output_type": "stream",
     "text": [
      "0.6591602002503129\n",
      "{'svc__C': 10.0, 'svc__gamma': 0.01, 'svc__kernel': 'rbf'}\n",
      "Test accuracy: 0.754\n",
      "F1_score: 0.754\n"
     ]
    }
   ],
   "source": [
    "pipe_svc = make_pipeline(StandardScaler(), SVC(random_state=1))\n",
    "\n",
    "# 超參數挑選範圍\n",
    "param_range = [0.001, 0.01, 0.1, 1.0, 10.0, 100.0] \n",
    "param_grid = [{'svc__C': param_range, \n",
    "               'svc__kernel': ['linear']},\n",
    "              {'svc__C': param_range, \n",
    "               'svc__gamma': param_range, \n",
    "               'svc__kernel': ['rbf']}]\n",
    "\n",
    "# 使用網格搜尋法\n",
    "gs = GridSearchCV(estimator=pipe_svc, \n",
    "                  param_grid=param_grid, \n",
    "                  scoring='accuracy', \n",
    "                  cv=5,\n",
    "                  n_jobs=-1)\n",
    "gs = gs.fit(X_train_std, y_train)\n",
    "\n",
    "# 輸出結果\n",
    "print(gs.best_score_) # 最佳的正確率\n",
    "print(gs.best_params_) # 最佳參數組合\n",
    "\n",
    "clf = gs.best_estimator_ # 取得剛剛算出的最佳參數\n",
    "clf.fit(X_train_std, y_train) # 用這個參數train出model\n",
    "y_predict_avg_std = clf.predict(X_test_std)\n",
    "results_avg_std = pd.DataFrame({'file_name':[os.path.basename(f) for f in test_path], 'prediction':y_predict_avg_std})\n",
    "results_avg_std.to_csv('results_avg_std.csv', index=False)\n",
    "\n",
    "y4 = clf.predict(X_train_std)\n",
    "print('Test accuracy: %.3f' % clf.score(X_train_std, y_train)) # 對測試集進行預測\n",
    "print('F1_score: %.3f' % f1_score(y_true=y_train, y_pred=y4, average='micro'))"
   ]
  },
  {
   "cell_type": "code",
   "execution_count": 37,
   "metadata": {},
   "outputs": [
    {
     "name": "stdout",
     "output_type": "stream",
     "text": [
      "Confusion matrix\n"
     ]
    },
    {
     "data": {
      "image/png": "[encoded data removed]",
      "text/plain": [
       "<Figure size 432x288 with 2 Axes>"
      ]
     },
     "metadata": {
      "needs_background": "light"
     },
     "output_type": "display_data"
    }
   ],
   "source": [
    "cm = confusion_matrix(y_true=y_train, y_pred=y4)\n",
    "plot_confusion_matrix(cm, classNames, filename = 'avg_std.png')"
   ]
  }
 ],
 "metadata": {
  "kernelspec": {
   "display_name": "Python 3",
   "language": "python",
   "name": "python3"
  },
  "language_info": {
   "codemirror_mode": {
    "name": "ipython",
    "version": 3
   },
   "file_extension": ".py",
   "mimetype": "text/x-python",
   "name": "python",
   "nbconvert_exporter": "python",
   "pygments_lexer": "ipython3",
   "version": "3.8.3"
  }
 },
 "nbformat": 4,
 "nbformat_minor": 4
}
